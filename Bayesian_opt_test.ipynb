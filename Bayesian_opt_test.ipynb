{
 "cells": [
  {
   "cell_type": "code",
   "execution_count": 3,
   "metadata": {},
   "outputs": [],
   "source": [
    "from sklearn.datasets import make_classification\n",
    "from sklearn.ensemble import RandomForestClassifier\n",
    "from sklearn.model_selection import cross_val_score\n",
    "from bayes_opt import BayesianOptimization\n",
    "import numpy as np\n"
   ]
  },
  {
   "cell_type": "code",
   "execution_count": 4,
   "metadata": {},
   "outputs": [],
   "source": [
    "x, y = make_classification(n_samples=2000, n_features=15, n_classes=2)"
   ]
  },
  {
   "cell_type": "code",
   "execution_count": 5,
   "metadata": {},
   "outputs": [],
   "source": [
    "def rf_cv(n_estimators, min_samples_split, max_features, max_depth):\n",
    "    val = cross_val_score(\n",
    "        RandomForestClassifier(n_estimators=int(n_estimators),\n",
    "            min_samples_split=int(min_samples_split),\n",
    "            max_features=min(max_features, 0.999), # float\n",
    "            max_depth=int(max_depth),\n",
    "            random_state=2\n",
    "        ),\n",
    "        x, y, scoring='roc_auc', cv=5\n",
    "    ).mean()\n",
    "    return val"
   ]
  },
  {
   "cell_type": "code",
   "execution_count": 7,
   "metadata": {},
   "outputs": [],
   "source": [
    "    rf_bo = BayesianOptimization(\n",
    "        rf_cv,\n",
    "        {'n_estimators': (10, 250),\n",
    "        'min_samples_split': (2, 25),\n",
    "        'max_features': (0.1, 0.999),\n",
    "        'max_depth': (5, 15)}\n",
    "    )"
   ]
  },
  {
   "cell_type": "code",
   "execution_count": 8,
   "metadata": {},
   "outputs": [
    {
     "name": "stdout",
     "output_type": "stream",
     "text": [
      "|   iter    |  target   | max_depth | max_fe... | min_sa... | n_esti... |\n",
      "-------------------------------------------------------------------------\n",
      "| \u001b[0m 1       \u001b[0m | \u001b[0m 0.9813  \u001b[0m | \u001b[0m 6.502   \u001b[0m | \u001b[0m 0.2676  \u001b[0m | \u001b[0m 21.1    \u001b[0m | \u001b[0m 235.9   \u001b[0m |\n",
      "| \u001b[95m 2       \u001b[0m | \u001b[95m 0.9826  \u001b[0m | \u001b[95m 13.2    \u001b[0m | \u001b[95m 0.2538  \u001b[0m | \u001b[95m 19.03   \u001b[0m | \u001b[95m 105.3   \u001b[0m |\n",
      "| \u001b[95m 3       \u001b[0m | \u001b[95m 0.9834  \u001b[0m | \u001b[95m 5.927   \u001b[0m | \u001b[95m 0.597   \u001b[0m | \u001b[95m 4.668   \u001b[0m | \u001b[95m 40.5    \u001b[0m |\n",
      "| \u001b[95m 4       \u001b[0m | \u001b[95m 0.9844  \u001b[0m | \u001b[95m 7.981   \u001b[0m | \u001b[95m 0.4272  \u001b[0m | \u001b[95m 23.83   \u001b[0m | \u001b[95m 157.7   \u001b[0m |\n",
      "| \u001b[0m 5       \u001b[0m | \u001b[0m 0.9843  \u001b[0m | \u001b[0m 6.133   \u001b[0m | \u001b[0m 0.8142  \u001b[0m | \u001b[0m 16.61   \u001b[0m | \u001b[0m 192.1   \u001b[0m |\n",
      "| \u001b[0m 6       \u001b[0m | \u001b[0m 0.9838  \u001b[0m | \u001b[0m 12.78   \u001b[0m | \u001b[0m 0.7236  \u001b[0m | \u001b[0m 24.67   \u001b[0m | \u001b[0m 10.47   \u001b[0m |\n",
      "| \u001b[0m 7       \u001b[0m | \u001b[0m 0.9836  \u001b[0m | \u001b[0m 7.224   \u001b[0m | \u001b[0m 0.8512  \u001b[0m | \u001b[0m 2.733   \u001b[0m | \u001b[0m 10.52   \u001b[0m |\n",
      "| \u001b[0m 8       \u001b[0m | \u001b[0m 0.9832  \u001b[0m | \u001b[0m 14.39   \u001b[0m | \u001b[0m 0.69    \u001b[0m | \u001b[0m 24.15   \u001b[0m | \u001b[0m 10.08   \u001b[0m |\n",
      "| \u001b[0m 9       \u001b[0m | \u001b[0m 0.977   \u001b[0m | \u001b[0m 14.42   \u001b[0m | \u001b[0m 0.2569  \u001b[0m | \u001b[0m 2.027   \u001b[0m | \u001b[0m 10.37   \u001b[0m |\n",
      "| \u001b[0m 10      \u001b[0m | \u001b[0m 0.9823  \u001b[0m | \u001b[0m 5.076   \u001b[0m | \u001b[0m 0.9164  \u001b[0m | \u001b[0m 24.13   \u001b[0m | \u001b[0m 22.7    \u001b[0m |\n",
      "| \u001b[0m 11      \u001b[0m | \u001b[0m 0.9842  \u001b[0m | \u001b[0m 5.14    \u001b[0m | \u001b[0m 0.8183  \u001b[0m | \u001b[0m 24.86   \u001b[0m | \u001b[0m 100.4   \u001b[0m |\n",
      "| \u001b[0m 12      \u001b[0m | \u001b[0m 0.9818  \u001b[0m | \u001b[0m 5.235   \u001b[0m | \u001b[0m 0.8884  \u001b[0m | \u001b[0m 24.63   \u001b[0m | \u001b[0m 11.33   \u001b[0m |\n",
      "| \u001b[0m 13      \u001b[0m | \u001b[0m 0.9825  \u001b[0m | \u001b[0m 5.371   \u001b[0m | \u001b[0m 0.4248  \u001b[0m | \u001b[0m 23.17   \u001b[0m | \u001b[0m 249.9   \u001b[0m |\n",
      "| \u001b[0m 14      \u001b[0m | \u001b[0m 0.9842  \u001b[0m | \u001b[0m 5.005   \u001b[0m | \u001b[0m 0.7758  \u001b[0m | \u001b[0m 24.25   \u001b[0m | \u001b[0m 249.1   \u001b[0m |\n",
      "| \u001b[0m 15      \u001b[0m | \u001b[0m 0.9836  \u001b[0m | \u001b[0m 13.86   \u001b[0m | \u001b[0m 0.5955  \u001b[0m | \u001b[0m 24.46   \u001b[0m | \u001b[0m 249.9   \u001b[0m |\n",
      "| \u001b[0m 16      \u001b[0m | \u001b[0m 0.9839  \u001b[0m | \u001b[0m 5.756   \u001b[0m | \u001b[0m 0.6541  \u001b[0m | \u001b[0m 24.97   \u001b[0m | \u001b[0m 248.3   \u001b[0m |\n",
      "| \u001b[0m 17      \u001b[0m | \u001b[0m 0.9757  \u001b[0m | \u001b[0m 5.066   \u001b[0m | \u001b[0m 0.2442  \u001b[0m | \u001b[0m 24.85   \u001b[0m | \u001b[0m 232.6   \u001b[0m |\n",
      "| \u001b[0m 18      \u001b[0m | \u001b[0m 0.9839  \u001b[0m | \u001b[0m 14.6    \u001b[0m | \u001b[0m 0.8165  \u001b[0m | \u001b[0m 2.36    \u001b[0m | \u001b[0m 249.2   \u001b[0m |\n",
      "| \u001b[0m 19      \u001b[0m | \u001b[0m 0.984   \u001b[0m | \u001b[0m 5.127   \u001b[0m | \u001b[0m 0.8063  \u001b[0m | \u001b[0m 2.14    \u001b[0m | \u001b[0m 145.9   \u001b[0m |\n",
      "| \u001b[0m 20      \u001b[0m | \u001b[0m 0.983   \u001b[0m | \u001b[0m 14.89   \u001b[0m | \u001b[0m 0.9799  \u001b[0m | \u001b[0m 20.51   \u001b[0m | \u001b[0m 141.8   \u001b[0m |\n",
      "| \u001b[0m 21      \u001b[0m | \u001b[0m 0.9842  \u001b[0m | \u001b[0m 5.314   \u001b[0m | \u001b[0m 0.969   \u001b[0m | \u001b[0m 4.821   \u001b[0m | \u001b[0m 77.54   \u001b[0m |\n",
      "| \u001b[0m 22      \u001b[0m | \u001b[0m 0.9833  \u001b[0m | \u001b[0m 14.54   \u001b[0m | \u001b[0m 0.9441  \u001b[0m | \u001b[0m 24.41   \u001b[0m | \u001b[0m 59.88   \u001b[0m |\n",
      "| \u001b[95m 23      \u001b[0m | \u001b[95m 0.9847  \u001b[0m | \u001b[95m 6.55    \u001b[0m | \u001b[95m 0.7693  \u001b[0m | \u001b[95m 3.492   \u001b[0m | \u001b[95m 250.0   \u001b[0m |\n",
      "| \u001b[0m 24      \u001b[0m | \u001b[0m 0.9835  \u001b[0m | \u001b[0m 5.258   \u001b[0m | \u001b[0m 0.9791  \u001b[0m | \u001b[0m 21.5    \u001b[0m | \u001b[0m 148.0   \u001b[0m |\n",
      "| \u001b[0m 25      \u001b[0m | \u001b[0m 0.9838  \u001b[0m | \u001b[0m 6.694   \u001b[0m | \u001b[0m 0.9726  \u001b[0m | \u001b[0m 2.944   \u001b[0m | \u001b[0m 177.2   \u001b[0m |\n",
      "| \u001b[0m 26      \u001b[0m | \u001b[0m 0.9829  \u001b[0m | \u001b[0m 13.86   \u001b[0m | \u001b[0m 0.9638  \u001b[0m | \u001b[0m 3.311   \u001b[0m | \u001b[0m 248.0   \u001b[0m |\n",
      "| \u001b[0m 27      \u001b[0m | \u001b[0m 0.9835  \u001b[0m | \u001b[0m 5.126   \u001b[0m | \u001b[0m 0.9347  \u001b[0m | \u001b[0m 24.56   \u001b[0m | \u001b[0m 87.82   \u001b[0m |\n",
      "| \u001b[0m 28      \u001b[0m | \u001b[0m 0.9835  \u001b[0m | \u001b[0m 5.377   \u001b[0m | \u001b[0m 0.9832  \u001b[0m | \u001b[0m 3.227   \u001b[0m | \u001b[0m 108.9   \u001b[0m |\n",
      "| \u001b[0m 29      \u001b[0m | \u001b[0m 0.9843  \u001b[0m | \u001b[0m 5.273   \u001b[0m | \u001b[0m 0.9295  \u001b[0m | \u001b[0m 2.34    \u001b[0m | \u001b[0m 244.7   \u001b[0m |\n",
      "| \u001b[0m 30      \u001b[0m | \u001b[0m 0.9844  \u001b[0m | \u001b[0m 5.319   \u001b[0m | \u001b[0m 0.9376  \u001b[0m | \u001b[0m 2.353   \u001b[0m | \u001b[0m 243.5   \u001b[0m |\n",
      "=========================================================================\n"
     ]
    }
   ],
   "source": [
    "rf_bo.maximize()"
   ]
  },
  {
   "cell_type": "code",
   "execution_count": null,
   "metadata": {},
   "outputs": [],
   "source": [
    "def opt_template(model,param_dict):\n",
    "    opt_method = BayesianOptimization(model,param_dict)\n",
    "    opt_method = "
   ]
  }
 ],
 "metadata": {
  "kernelspec": {
   "display_name": "Python [conda env:automl]",
   "language": "python",
   "name": "conda-env-automl-py"
  },
  "language_info": {
   "codemirror_mode": {
    "name": "ipython",
    "version": 3
   },
   "file_extension": ".py",
   "mimetype": "text/x-python",
   "name": "python",
   "nbconvert_exporter": "python",
   "pygments_lexer": "ipython3",
   "version": "3.6.0"
  }
 },
 "nbformat": 4,
 "nbformat_minor": 2
}
